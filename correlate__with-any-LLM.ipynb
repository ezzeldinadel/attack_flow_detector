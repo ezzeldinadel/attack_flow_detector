{
  "cells": [
    {
      "cell_type": "code",
      "execution_count": null,
      "metadata": {},
      "outputs": [],
      "source": "# --- Cell 1: Imports and Setup --- ---\nimport json\nimport re\nimport openai\nimport pandas as pd\nfrom sklearn.cluster import DBSCAN\nfrom collections import defaultdict\n\n# Setup OpenAI API key\nopenai.api_key = 'YOUR_OPENAI_API_KEY'\n"
    },
    {
      "cell_type": "code",
      "execution_count": null,
      "metadata": {},
      "outputs": [],
      "source": "# --- Cell 2: Load JSON Alerts --- ---\ndef load_alerts(json_path):\n    with open(json_path, 'r') as f:\n        alerts = json.load(f)\n    return alerts\n\n# Example usage\nalerts_json = load_alerts('alerts.json')\n"
    },
    {
      "cell_type": "code",
      "execution_count": null,
      "metadata": {},
      "outputs": [],
      "source": "# --- LangChain LLM Support ---\nfrom langchain.chat_models import ChatOpenAI\nfrom langchain.schema import HumanMessage\n\nllm = ChatOpenAI(model_name=\"gpt-4-turbo\", temperature=0)\n\ndef langchain_llm_extract(json_alert):\n    prompt = f\"\"\"\n    Given this alert JSON:\n    {json.dumps(json_alert)}\n\n    Extract the following fields precisely:\n    id, time, description (desc), entities (comma-separated list), mitretechnique (MITRE ATT&CK ID, leave blank if unknown).\n\n    Output Format:\n    id:<value>\n    time:<value>\n    desc:<value>\n    entities:<value>\n    mitretechnique:<value>\n    \"\"\"\n\n    response = llm([HumanMessage(content=prompt)]).content.strip()\n\n    data = {}\n    for line in response.split('\\n'):\n        key, value = line.split(':', 1)\n        data[key.strip()] = value.strip()\n\n    return data\n\ndef langchain_fill_missing_technique(alert):\n    if alert['mitretechnique']:\n        return alert['mitretechnique']\n\n    prompt = f\"\"\"\n    Given this cybersecurity alert description:\n    {alert['desc']}\n\n    Identify the most likely MITRE ATT&CK technique ID.\n\n    Output only the technique ID:\n    \"\"\"\n\n    response = llm([HumanMessage(content=prompt)]).content.strip()\n    return response\n"
    },
    {
      "cell_type": "code",
      "execution_count": null,
      "metadata": {},
      "outputs": [],
      "source": "# --- Cell 3: Automap JSON using Regex and LLM --- ---\ndef llm_extract(json_alert):\n    prompt = f\"\"\"\n    Given this alert JSON:\n    {json.dumps(json_alert)}\n\n    Extract the following fields precisely:\n    id, time, description (desc), entities (comma-separated list), mitretechnique (MITRE ATT&CK ID, leave blank if unknown).\n\n    Output Format:\n    id:<value>\n    time:<value>\n    desc:<value>\n    entities:<value>\n    mitretechnique:<value>\n    \"\"\"\n\n    response = openai.ChatCompletion.create(\n        model=\"gpt-4-turbo\",\n        messages=[{\"role\": \"user\", \"content\": prompt}],\n        temperature=0,\n        max_tokens=200\n    )\n\n    data = {}\n    for line in response.choices[0].message.content.strip().split('\\n'):\n        key, value = line.split(':', 1)\n        data[key.strip()] = value.strip()\n\n    return data\n\n# Process alerts\nprocessed_alerts = []\nfor alert in alerts_json:\n    mapped_alert = llm_extract(alert)\n    processed_alerts.append(mapped_alert)\n"
    },
    {
      "cell_type": "code",
      "execution_count": null,
      "metadata": {},
      "outputs": [],
      "source": "# --- Cell 4: Fill Missing MITRE Techniques --- ---\ndef fill_missing_technique(alert):\n    if alert['mitretechnique']:\n        return alert['mitretechnique']\n\n    prompt = f\"\"\"\n    Given this cybersecurity alert description:\n    {alert['desc']}\n\n    Identify the most likely MITRE ATT&CK technique ID.\n\n    Output only the technique ID:\n    \"\"\"\n\n    response = openai.ChatCompletion.create(\n        model=\"gpt-4-turbo\",\n        messages=[{\"role\": \"user\", \"content\": prompt}],\n        temperature=0,\n        max_tokens=10\n    )\n\n    return response.choices[0].message.content.strip()\n\n# Update alerts with missing MITRE techniques\nfor alert in processed_alerts:\n    if not alert['mitretechnique']:\n        alert['mitretechnique'] = fill_missing_technique(alert)\n"
    },
    {
      "cell_type": "code",
      "execution_count": null,
      "metadata": {},
      "outputs": [],
      "source": "# --- Cell 5: Prepare Data for Clustering --- ---\ndf_alerts = pd.DataFrame(processed_alerts)\n\ndf_alerts['timestamp'] = pd.to_datetime(df_alerts['time'])\ndf_alerts['entities_set'] = df_alerts['entities'].apply(lambda x: set(x.split(',')))\n\n# Create a numeric technique ID for clustering\ndf_alerts['technique_numeric'] = df_alerts['mitretechnique'].apply(lambda x: int(re.sub(r'[^\\d]', '', x)))\n"
    },
    {
      "cell_type": "code",
      "execution_count": null,
      "metadata": {},
      "outputs": [],
      "source": "# --- Cell 6: Clustering Alerts --- ---\nfeatures = df_alerts[['timestamp', 'technique_numeric']].copy()\nfeatures['timestamp'] = features['timestamp'].astype(int) / 1e9  # Convert timestamp to numerical format\n\nclustering_model = DBSCAN(eps=3600, min_samples=1)\ndf_alerts['cluster'] = clustering_model.fit_predict(features)\n"
    },
    {
      "cell_type": "code",
      "execution_count": null,
      "metadata": {},
      "outputs": [],
      "source": "# --- Cell 7: Sequencing Based on MITRE Tactics Causality --- ---\nmitre_tactics_order = {  # simplified example\n    \"Initial Access\": 1,\n    \"Execution\": 2,\n    \"Persistence\": 3,\n    \"Privilege Escalation\": 4,\n    \"Defense Evasion\": 5,\n    \"Credential Access\": 6,\n    \"Discovery\": 7,\n    \"Lateral Movement\": 8,\n    \"Collection\": 9,\n    \"Command and Control\": 10,\n    \"Exfiltration\": 11,\n    \"Impact\": 12\n}\n\n# Simplified function to get tactic from MITRE technique\ntechnique_to_tactic = lambda tech: \"Execution\"  # Replace this logic with actual mapping from MITRE ATT&CK\n\ndf_alerts['tactic'] = df_alerts['mitretechnique'].apply(technique_to_tactic)\ndf_alerts['tactic_order'] = df_alerts['tactic'].map(mitre_tactics_order)\n\n# Sequence alerts within clusters by tactic causality and entities overlap\nsequences = defaultdict(list)\n\nfor cluster_id in df_alerts['cluster'].unique():\n    cluster_alerts = df_alerts[df_alerts['cluster'] == cluster_id].sort_values(by=['tactic_order', 'timestamp'])\n\n    current_sequence = []\n    seen_entities = set()\n\n    for _, alert in cluster_alerts.iterrows():\n        alert_entities = alert['entities_set']\n        if not seen_entities or seen_entities.intersection(alert_entities):\n            current_sequence.append(alert['id'])\n            seen_entities.update(alert_entities)\n        else:\n            if current_sequence:\n                sequences[cluster_id].append(current_sequence)\n            current_sequence = [alert['id']]\n            seen_entities = alert_entities\n\n    if current_sequence:\n        sequences[cluster_id].append(current_sequence)\n"
    },
    {
      "cell_type": "code",
      "execution_count": null,
      "metadata": {},
      "outputs": [],
      "source": "# --- Cell 8: Output Sequences --- ---\nfor cluster_id, seq_list in sequences.items():\n    print(f\"\\nCluster {cluster_id}:\")\n    for idx, seq in enumerate(seq_list, start=1):\n        print(f\"  Sequence {idx}: {seq}\")"
    }
  ],
  "metadata": {
    "kernelspec": {
      "display_name": "Python 3",
      "language": "python",
      "name": "python3"
    },
    "language_info": {
      "name": "python",
      "version": "3.9"
    }
  },
  "nbformat": 4,
  "nbformat_minor": 5
}
